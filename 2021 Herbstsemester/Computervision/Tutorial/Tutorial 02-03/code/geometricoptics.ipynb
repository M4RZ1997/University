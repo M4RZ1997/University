{
 "cells": [
  {
   "cell_type": "code",
   "execution_count": 1,
   "metadata": {},
   "outputs": [],
   "source": [
    "# Geometric optics \n",
    "# Script to verify ray propagation with\n",
    "# matrix vector operations.\n",
    "# Light rays are represented as a vector [tan(theta) h 1]^T\n",
    "# where theta is the incidence angle and h the height from the\n",
    "# optical axis.\n",
    "# The analysis is in 2D as we exploit symmetry.\n",
    "# The code below simulates ray tracing in a light field camera."
   ]
  },
  {
   "cell_type": "code",
   "execution_count": 2,
   "metadata": {},
   "outputs": [],
   "source": [
    "%matplotlib inline\n",
    "import matplotlib.pyplot as plt\n",
    "import numpy as np"
   ]
  },
  {
   "cell_type": "code",
   "execution_count": 3,
   "metadata": {},
   "outputs": [],
   "source": [
    "# main lens\n",
    "f1 = 30e-3; # focal length\n",
    "D = 3e-2; # diameter\n",
    "\n",
    "# microlens array\n",
    "N = 5; # 2N+1 lenses\n",
    "f2 = .5e-3; # focal length\n",
    "d = D/(2*N+1); # diameter\n",
    "\n",
    "Delta1 = 60e-3;  # distance main lens to microlens\n",
    "Delta2 = 0.5e-3; # distance microlens to image plane (focused)\n",
    "#Delta2 = 0.6e-3; # distance microlens to image plane (defocused)\n",
    "\n",
    "# sensor\n",
    "M = 100; # pixels\n",
    "mu = D/M; # pixel size (we assume that the sensor is as large as the main lens)\n",
    "img = np.zeros((M,1));\n",
    "\n",
    "# 3D point (use only Y and Z)\n",
    "P = np.array([0, 1e-2, -1])\n",
    "V1 = np.array([1, -P[2], 0]).reshape(3,1);\n",
    "V2 = np.array([0, P[1], 1]).reshape(3,1);\n",
    "\n",
    "theta = np.linspace(-np.pi/2,np.pi/2,100000);\n",
    "tant = np.tan(theta);\n",
    "# main lens aperture\n",
    "valid = np.logical_and(tant<(D/2-P[1]/(-P[2])), tant>-(D/2+P[1])/(-P[2]))\n",
    "tantheta = tant[valid];"
   ]
  },
  {
   "cell_type": "code",
   "execution_count": 4,
   "metadata": {},
   "outputs": [],
   "source": [
    "ML1 = np.array([[1, -1/f1, 0],\n",
    "                    [0, 1, 0],\n",
    "                    [0, 0, 1]])\n",
    "MS1 = np.array([[1, 0, 0],\n",
    "                   [Delta1, 1, 0],\n",
    "                   [0, 0, 1]])"
   ]
  },
  {
   "cell_type": "code",
   "execution_count": 5,
   "metadata": {},
   "outputs": [
    {
     "data": {
      "text/plain": [
       "array([[1.],\n",
       "       [1.],\n",
       "       [0.]])"
      ]
     },
     "execution_count": 5,
     "metadata": {},
     "output_type": "execute_result"
    }
   ],
   "source": [
    "V1"
   ]
  },
  {
   "cell_type": "code",
   "execution_count": 10,
   "metadata": {},
   "outputs": [
    {
     "data": {
      "image/png": "[encoded data removed]",
      "text/plain": [
       "<Figure size 432x288 with 1 Axes>"
      ]
     },
     "metadata": {
      "needs_background": "light"
     },
     "output_type": "display_data"
    },
    {
     "data": {
      "image/png": "[encoded data removed]",
      "text/plain": [
       "<Figure size 432x288 with 1 Axes>"
      ]
     },
     "metadata": {
      "needs_background": "light"
     },
     "output_type": "display_data"
    }
   ],
   "source": [
    "fig1 = plt.figure()\n",
    "ax1 = fig1.add_subplot(1, 1, 1)\n",
    "fig2 = plt.figure()\n",
    "ax2 = fig2.add_subplot(1, 1, 1)\n",
    "\n",
    "ax1.plot(P[2], P[1], 'o')\n",
    "ax1.plot(np.concatenate((P[2]*np.ones((tantheta.shape[0], 1)), np.zeros((tantheta.shape[0], 1))), 1).flatten(),\n",
    "         np.concatenate((P[1]*np.ones((tantheta.shape[0], 1)), -P[2]*np.expand_dims(tantheta, 1)+P[1]), 1).flatten())\n",
    "\n",
    "#plot([P(3)*ones(size(tantheta))' zeros(size(tantheta))']',[P(2)*ones(size(tantheta))' -P(3)*tantheta'+P(2)]');\n",
    "\n",
    "# # draw main lens\n",
    "ax1.plot([0, 0], [-D/2, D/2], 'k')\n",
    "# draw image plane\n",
    "ax1.plot([Delta1+Delta2, Delta1+Delta2], [-D/2, D/2], 'k')\n",
    "\n",
    "for j in range(-N, N+1):\n",
    "    b = d * j\n",
    "    ML1 = np.array([[1, -1/f1, 0],\n",
    "                    [0, 1, 0],\n",
    "                    [0, 0, 1]])\n",
    "    MS1 = np.array([[1, 0, 0],\n",
    "                   [Delta1, 1, 0],\n",
    "                   [0, 0, 1]])\n",
    "    W1 = MS1 @ ML1 @ V1\n",
    "    W2 = MS1 @ ML1 @ V2\n",
    "    \n",
    "    ML2 = np.array([[1, -1/f2, b/f2],\n",
    "                    [0, 1, 0],\n",
    "                    [0, 0, 1]])\n",
    "    MS2 = np.array([[1, 0, 0],\n",
    "                    [Delta2, 1, 0],\n",
    "                    [0, 0, 1]])\n",
    "    \n",
    "    W3 = MS2 @ ML2 @ MS1 @ ML1 @ V1\n",
    "    W4 = MS2 @ ML2 @ MS1 @ ML1 @ V2\n",
    "    \n",
    "    Mall = MS2 @ ML2 @ MS1 @ ML1\n",
    "    F1 = Mall @ V1\n",
    "    F2 = Mall @ V2\n",
    "    # check aperture microlens\n",
    "    valid = np.abs((Delta1-P[2] * (1-Delta1/f1)) * tantheta+ P[1]*(1-Delta1/f1)-b) < d/2\n",
    "    output = F1 * tantheta[valid] + F2 * np.ones((1, np.sum(valid)))\n",
    "    \n",
    "    # build output image (a line of pixels) via sparse matrices so each ray\n",
    "    # contribution can be accumulated efficiently\n",
    "    rows = np.round(output[1,:]/D*M) + M/2 + 1 # quantization of the incident rays on the pixel locations\n",
    "    cols = np.zeros_like(rows)\n",
    "    vals = np.sum(valid) / np.size(valid)*np.ones_like(rows)\n",
    "    img_ = np.zeros((M, 1))\n",
    "    img_[rows.astype(np.int), cols.astype(np.int)] = vals\n",
    "    img = img + img_\n",
    "    \n",
    "    ax2.imshow(img, extent=[0, 1, 0, 1], cmap='gray')\n",
    "    \n",
    "    # draw ray path step by step\n",
    "    # draw microlens\n",
    "    ax1.plot([Delta1, Delta1], [d*j-d/2, d*j+d/2], 'k')\n",
    "    # draw rays from main lens to microlens\n",
    "    ax1.plot(np.concatenate((np.zeros(valid.sum()), Delta1 * np.ones(valid.sum()))),\n",
    "             np.concatenate((-P[2] * tantheta[valid] + P[1], W1[1]*tantheta[valid] + W2[1])))\n",
    "    # draw final rays onto image plane\n",
    "    ax1.plot(np.concatenate((Delta1 * np.ones(valid.sum()), (Delta1+Delta2)*np.ones(valid.sum()))),\n",
    "             np.concatenate((W1[1] * tantheta[valid] + W2[1], W3[1]*tantheta[valid] + W4[1])))\n",
    "    # show hit pixels\n",
    "    ax1.plot((Delta1+Delta2)*np.ones((output.shape[1])), output[1,:], 'o')\n",
    "#     plt.pause(1)"
   ]
  },
  {
   "cell_type": "code",
   "execution_count": 8,
   "metadata": {},
   "outputs": [],
   "source": [
    "W1 = MS1@ML1@V1"
   ]
  },
  {
   "cell_type": "code",
   "execution_count": null,
   "metadata": {},
   "outputs": [],
   "source": [
    "W1[1]"
   ]
  },
  {
   "cell_type": "code",
   "execution_count": null,
   "metadata": {},
   "outputs": [],
   "source": [
    "%debug"
   ]
  },
  {
   "cell_type": "code",
   "execution_count": null,
   "metadata": {},
   "outputs": [],
   "source": []
  },
  {
   "cell_type": "code",
   "execution_count": null,
   "metadata": {},
   "outputs": [],
   "source": []
  },
  {
   "cell_type": "code",
   "execution_count": null,
   "metadata": {},
   "outputs": [],
   "source": [
    "np.numel(5)"
   ]
  },
  {
   "cell_type": "code",
   "execution_count": null,
   "metadata": {},
   "outputs": [],
   "source": [
    "figure(1)\n",
    "clf\n",
    "hold on\n",
    "plot(P(3),P(2),'o');\n",
    "plot([P(3)*ones(size(tantheta))' zeros(size(tantheta))']',[P(2)*ones(size(tantheta))' -P(3)*tantheta'+P(2)]');\n",
    "% draw main lens\n",
    "plot([0 0],[-D/2 D/2],'k')\n",
    "% draw image plane\n",
    "plot([Delta1+Delta2 Delta1+Delta2],[-D/2 D/2],'k')\n",
    "%axis equal\n",
    "%axis([-Delta1 Delta1+2*Delta2 -D/2 D/2])\n",
    "for j=-N:N\n",
    "    b = d*j; % microlens height\n",
    "    ML1 = [1 -1/f1 0; 0 1 0; 0 0 1];\n",
    "    MS1 = [1 0 0; Delta1 1 0; 0 0 1];\n",
    "    W1 = MS1*ML1*V1; W2 = MS1*ML1*V2;\n",
    "\n",
    "    ML2 = [1 -1/f2 b/f2; 0 1 0; 0 0 1];\n",
    "    MS2 = [1 0 0; Delta2 1 0; 0 0 1];\n",
    "    \n",
    "    W3 = MS2*ML2*MS1*ML1*V1; W4 = MS2*ML2*MS1*ML1*V2;\n",
    "    \n",
    "    Mall = MS2*ML2*MS1*ML1;\n",
    "    F1 = Mall*V1;\n",
    "    F2 = Mall*V2;\n",
    "    % check aperture microlens\n",
    "    valid = abs((Delta1-P(3)*(1-Delta1/f1))*tantheta+P(2)*(1-Delta1/f1)-b)<d/2;\n",
    "    output = F1*tantheta(valid)+F2*ones(1,sum(valid));\n",
    "    % build output image (a line of pixels) via sparse matrices so each ray\n",
    "    % contribution can be accumulated efficiently\n",
    "    rows = round(output(2,:)/D*M)+M/2+1; % quantization of the incident rays on the pixel locations\n",
    "    cols = ones(size(rows));\n",
    "    vals = sum(valid)/numel(valid)*ones(size(rows));\n",
    "    img = img+sparse(rows,cols,vals,M,1);\n",
    "    figure(2)\n",
    "    imagesc(img);\n",
    "    colormap gray(256)\n",
    "    drawnow;\n",
    "    figure(1)\n",
    "    \n",
    "    % draw ray path step by step\n",
    "    % draw microlens\n",
    "    plot([Delta1 Delta1],[d*j-d/2 d*j+d/2],'k')\n",
    "    % draw rays from main lens to microlens\n",
    "    plot([zeros(size(tantheta(valid)))' Delta1*ones(size(tantheta(valid)))']',...\n",
    "         [-P(3)*tantheta(valid)'+P(2) W1(2)*tantheta(valid)'+W2(2)]');\n",
    "    % draw final rays onto image plane\n",
    "    plot([Delta1*ones(size(tantheta(valid)))' (Delta1+Delta2)*ones(size(tantheta(valid)))']',...\n",
    "         [W1(2)*tantheta(valid)'+W2(2) W3(2)*tantheta(valid)'+W4(2) ]');\n",
    "    % show hit pixels\n",
    "    plot((Delta1+Delta2)*ones(1,size(output,2)),output(2,:),'o');\n",
    "    drawnow\n",
    "    pause\n",
    "    \n",
    "end\n",
    "hold off"
   ]
  }
 ],
 "metadata": {
  "kernelspec": {
   "display_name": "Python 3",
   "language": "python",
   "name": "python3"
  },
  "language_info": {
   "codemirror_mode": {
    "name": "ipython",
    "version": 3
   },
   "file_extension": ".py",
   "mimetype": "text/x-python",
   "name": "python",
   "nbconvert_exporter": "python",
   "pygments_lexer": "ipython3",
   "version": "3.7.4"
  }
 },
 "nbformat": 4,
 "nbformat_minor": 4
}
