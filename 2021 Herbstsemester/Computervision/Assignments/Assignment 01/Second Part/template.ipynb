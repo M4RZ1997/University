{
 "cells": [
  {
   "cell_type": "markdown",
   "metadata": {},
   "source": [
    "# Assignment 1 - Image Deblurring\n",
    "\n",
    "Name: <br>\n",
    "Matriculation number:"
   ]
  },
  {
   "cell_type": "code",
   "execution_count": null,
   "metadata": {},
   "outputs": [],
   "source": [
    "import numpy as np\n",
    "from PIL import Image\n",
    "import matplotlib.pyplot as plt\n",
    "\n",
    "from hessian_matrix import hessian_matrix"
   ]
  },
  {
   "cell_type": "markdown",
   "metadata": {},
   "source": [
    "## Test Image\n",
    "\n",
    "You can use the following function to create a synthetic image:\n",
    "\n"
   ]
  },
  {
   "cell_type": "code",
   "execution_count": null,
   "metadata": {},
   "outputs": [],
   "source": [
    "def create_random_binary_img_1():\n",
    "    \n",
    "    u = np.random.randint(1,2, 30*30).reshape(30,30).astype(np.float)\n",
    "\n",
    "    u[5:9,4:] = 0.5\n",
    "    u[3:5,4:] = 0\n",
    "    u[10:15,:10] = 0\n",
    "    u[10:15,15:] = 0.8\n",
    "    u[15:, 18:27] = 0.3\n",
    "\n",
    "    for i in range(10):\n",
    "        u[i+17,i+4:i+8]  = 0\n",
    "    \n",
    "    u[20:25:, 20:23] = 1    \n",
    "    u[20:28,4] = 0\n",
    "    u[20:28,3] = 0.3\n",
    "    u[20:28,2] = 0.7\n",
    "\n",
    "    return u\n",
    "\n",
    "sample_image = create_random_binary_img_1()\n",
    "\n",
    "plt.imshow(sample_image, cmap =\"gray\")\n",
    "plt.show()"
   ]
  },
  {
   "cell_type": "markdown",
   "metadata": {},
   "source": [
    "## hessian_matrix() function\n",
    "\n",
    "We provide the implementation of the hessian matrix for $k = 0, 1, 2, 3$.\n",
    "\n",
    "input variables: \n",
    "- u: your image\n",
    "- reg: regularization parameter\n",
    "- k: one of the four kernel types 0-3 \n",
    "\n",
    "Example usage:"
   ]
  },
  {
   "cell_type": "code",
   "execution_count": null,
   "metadata": {},
   "outputs": [],
   "source": [
    "u_ex = np.zeros(9).reshape(3,3)\n",
    "reg_ex = 1\n",
    "k_type_ex = 3\n",
    "A = hessian_matrix(u_ex, reg_ex, k_type_ex)\n",
    "A_n_t = A.toarray()\n",
    "print(A_n_t)"
   ]
  },
  {
   "cell_type": "markdown",
   "metadata": {},
   "source": [
    "## Implementation"
   ]
  },
  {
   "cell_type": "code",
   "execution_count": null,
   "metadata": {},
   "outputs": [],
   "source": [
    "def GD(g, reg_lambda = 0.01):\n",
    "    \"\"\"\n",
    "    Gradient Descent algorithm\n",
    "    g: grayscale blurry image of size (M, N)\n",
    "    reg_lambda: regularization parameter\n",
    "    \"\"\"\n",
    "    u = g  # TODO: replace with actual implementation\n",
    "    return u"
   ]
  },
  {
   "cell_type": "code",
   "execution_count": null,
   "metadata": {},
   "outputs": [],
   "source": [
    "def LGS(g, reg_lambda):\n",
    "    \"\"\"\n",
    "    Linearalized Gauss Seidel Algortihm\n",
    "    g: grayscale blurry image of size (M, N)\n",
    "    reg_lambda: regularization parameter\n",
    "    \"\"\"\n",
    "    u = g  # TODO: replace with actual implementation\n",
    "    return u"
   ]
  },
  {
   "cell_type": "code",
   "execution_count": null,
   "metadata": {},
   "outputs": [],
   "source": [
    "def LSOR(g, reg_lambda, w):\n",
    "    \"\"\"\n",
    "    Linearized SOR Algorithm\n",
    "    g: grayscale blyrry image of size (M, N)\n",
    "    reg_lambda: regularization parameter\n",
    "    w: SOR parameter\n",
    "    \"\"\"\n",
    "    u = g  # TODO: replace with actual implementation\n",
    "    return u"
   ]
  },
  {
   "cell_type": "markdown",
   "metadata": {},
   "source": [
    "### Parameters"
   ]
  },
  {
   "cell_type": "code",
   "execution_count": null,
   "metadata": {},
   "outputs": [],
   "source": [
    "reg_lambda = 0.001 # lambda regularization parameter. you need to play with this \n",
    "# k matrix. Look below how to choose it \n",
    "k = 0\n"
   ]
  },
  {
   "cell_type": "markdown",
   "metadata": {},
   "source": [
    "$k =0 \\longrightarrow \\begin{bmatrix}\\frac{1}{2} & \\frac{1}{2} \\\\0&0\\end{bmatrix} \\hspace{1cm} k =1 \\longrightarrow  \\begin{bmatrix}\\frac{1}{2} & 0 \\\\\\frac{1}{2}&0\\end{bmatrix} \\hspace{1cm} k =2 \\longrightarrow \\begin{bmatrix}\\frac{1}{2} & 0 \\\\0&\\frac{1}{2}\\end{bmatrix}   \\hspace{1cm} k =3 \\longrightarrow \\begin{bmatrix}0 & \\frac{1}{2} \\\\ \\frac{1}{2}&0\\end{bmatrix}$\n",
    "\n"
   ]
  },
  {
   "cell_type": "markdown",
   "metadata": {},
   "source": [
    "### Reading image\n",
    "\n",
    "You are provided with only the synthetic image. \n",
    "The purpose of using a synthetic image is to see possible changes in the deblurred image after applying your algorithm. \n",
    "You can convolve the original image using the [scipy library](https://docs.scipy.org/doc/scipy/reference/generated/scipy.signal.convolve2d.html).\n",
    "Note that you must choose **valid** as the mode in your convolution."
   ]
  },
  {
   "cell_type": "code",
   "execution_count": null,
   "metadata": {},
   "outputs": [],
   "source": [
    "img_org = sample_image = create_random_binary_img_1()\n",
    "\n",
    "# TODO: define the kernel matrix here\n",
    "kernel = None\n",
    "\n",
    "# TODO: blur this image\n",
    "img_blurred = sample_image"
   ]
  },
  {
   "cell_type": "markdown",
   "metadata": {},
   "source": [
    "## GRADIENT DESCENT"
   ]
  },
  {
   "cell_type": "code",
   "execution_count": null,
   "metadata": {},
   "outputs": [],
   "source": [
    "# run gradient descent algorithm\n",
    "img_deblurred_gd = GD(img_blurred, reg_lambda)\n",
    "\n",
    "# for visualization purpose \n",
    "# img_deblurred_gd = np.clip(u_final_gd, 0, 1)\n",
    "\n",
    "\n",
    "plt.figure(figsize=(15, 5))\n",
    "ax1 = plt.subplot(1, 3, 1)\n",
    "plt.imshow(img_blurred, cmap='gray')\n",
    "ax2 = plt.subplot(1, 3, 2)\n",
    "plt.imshow(img_deblurred_gd, cmap='gray')\n",
    "ax3 = plt.subplot(1, 3, 3)\n",
    "plt.imshow(img_org, cmap='gray')\n",
    "\n",
    "ax1.set_title(\"Blurred Image\")\n",
    "ax2.set_title(\"Deblurred Image - GD\")\n",
    "ax3.set_title(\"Original - Sharp Image\")\n",
    "plt.show()\n",
    "\n",
    "print(f\"For lambda {reg_lambda:.5f}\\t \\nk_type {k:1d}\")\n",
    "\n",
    "# TODO: print the loss\n",
    "print(f\"Loss Data Term = \")\n",
    "\n",
    "# TODO: print the error\n",
    "print(\"Sum of Squared Distance: deblurred vs. original = \")  "
   ]
  },
  {
   "cell_type": "markdown",
   "metadata": {},
   "source": [
    "## SOR"
   ]
  },
  {
   "cell_type": "code",
   "execution_count": null,
   "metadata": {},
   "outputs": [],
   "source": [
    "w = 0.3 #play with this\n",
    "\n",
    "# run LSOR algorithm\n",
    "img_deblurred_sor = LSOR(img_blurred, reg_lambda, w)\n",
    "\n",
    "\n",
    "plt.figure(figsize=(15, 5))\n",
    "ax1 = plt.subplot(1, 3, 1)\n",
    "plt.imshow(img_blurred, cmap='gray')\n",
    "ax2 = plt.subplot(1, 3, 2)\n",
    "plt.imshow(img_deblurred_sor, cmap='gray')\n",
    "ax3 = plt.subplot(1, 3, 3)\n",
    "plt.imshow(img_org,cmap='gray')\n",
    "\n",
    "ax1.set_title(\"Blurred Image\")\n",
    "ax2.set_title(\"Deblurred Image - LSOR\")\n",
    "ax3.set_title(\"Original - Sharp Image\")\n",
    "#plt.savefig(\"results_\"+str(k)+\".png\")\n",
    "plt.show()\n",
    "\n",
    "print(f\"For lambda {reg_lambda:.5f}\")\n",
    "\n",
    "# TODO: print the loss\n",
    "print(f\"Loss Data Term = \")\n",
    "\n",
    "# TODO: print the error\n",
    "print(\"Sum of Squared Distance: deblurred vs. original = \")  "
   ]
  },
  {
   "cell_type": "markdown",
   "metadata": {},
   "source": [
    "## GAUSS - SEIDEL"
   ]
  },
  {
   "cell_type": "code",
   "execution_count": null,
   "metadata": {},
   "outputs": [],
   "source": [
    "nb_iter = 1\n",
    "\n",
    "# run LGS algorithm\n",
    "img_deblurred_gs = LGS(img_blurred, reg_lambda)\n",
    "\n",
    "\n",
    "plt.figure(figsize=(15, 5))\n",
    "ax1 = plt.subplot(1, 3, 1)\n",
    "plt.imshow(img_blurred, cmap='gray')\n",
    "ax2 = plt.subplot(1, 3, 2)\n",
    "plt.imshow(img_deblurred_gs, cmap='gray')\n",
    "ax3 = plt.subplot(1, 3, 3)\n",
    "plt.imshow(img_org, cmap='gray')\n",
    "\n",
    "ax1.set_title(\"Blurred Image\")\n",
    "ax2.set_title(\"Deblurred Image - LGS\")\n",
    "ax3.set_title(\"Original - Sharp Image\")\n",
    "plt.show()\n",
    "\n",
    "print(f\"For lambda {reg_lambda:.5f}\")\n",
    "\n",
    "# TODO: print the loss\n",
    "print(f\"Loss Data Term = \")\n",
    "\n",
    "# TODO: print the error\n",
    "print(\"Sum of Squared Distance: deblurred vs. original = \")  "
   ]
  }
 ],
 "metadata": {
  "kernelspec": {
   "display_name": "Python 3",
   "language": "python",
   "name": "python3"
  },
  "language_info": {
   "codemirror_mode": {
    "name": "ipython",
    "version": 3
   },
   "file_extension": ".py",
   "mimetype": "text/x-python",
   "name": "python",
   "nbconvert_exporter": "python",
   "pygments_lexer": "ipython3",
   "version": "3.8.5"
  }
 },
 "nbformat": 4,
 "nbformat_minor": 4
}
