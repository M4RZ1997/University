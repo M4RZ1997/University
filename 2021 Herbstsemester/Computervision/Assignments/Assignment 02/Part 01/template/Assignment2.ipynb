{
 "cells": [
  {
   "cell_type": "markdown",
   "metadata": {},
   "source": [
    "# Assignment 2 - Epipolar Geometry and 3D Reconstruction \n",
    "\n",
    "First name: Marcel\n",
    "<br>\n",
    "Last name: Zauder\n",
    "<br>\n",
    "Matriculation number: 16-124-836"
   ]
  },
  {
   "cell_type": "code",
   "execution_count": 209,
   "metadata": {},
   "outputs": [
    {
     "name": "stdout",
     "output_type": "stream",
     "text": [
      "The autoreload extension is already loaded. To reload it, use:\n",
      "  %reload_ext autoreload\n"
     ]
    }
   ],
   "source": [
    "%load_ext autoreload\n",
    "%autoreload 2\n",
    "%matplotlib inline\n",
    "import numpy as np\n",
    "import matplotlib.pyplot as plt\n",
    "\n",
    "from data import load_homogeneous_coordinates\n",
    "from utils import eight_points_algorithm, right_epipole, plot_epipolar_line\n",
    "from utils import get_normalization_matrix"
   ]
  },
  {
   "cell_type": "markdown",
   "metadata": {},
   "source": [
    "## Part I: The Eight Point Algorithm"
   ]
  },
  {
   "cell_type": "markdown",
   "metadata": {},
   "source": [
    "### Load Data"
   ]
  },
  {
   "cell_type": "code",
   "execution_count": 210,
   "metadata": {},
   "outputs": [],
   "source": [
    "data_dir = './merton_college/'\n",
    "img1, img2, x1, x2 = load_homogeneous_coordinates(data_dir)"
   ]
  },
  {
   "cell_type": "markdown",
   "source": [
    "### Compute Test Normalization Matrix"
   ],
   "metadata": {
    "collapsed": false,
    "pycharm": {
     "name": "#%% md\n"
    }
   }
  },
  {
   "cell_type": "code",
   "execution_count": 211,
   "outputs": [
    {
     "name": "stdout",
     "output_type": "stream",
     "text": [
      "[540.48906686 253.10994477   1.        ]\n",
      "47564.745736612516\n",
      "[[ 0.00458519  0.         -2.47824548]\n",
      " [ 0.          0.00458519 -1.16055738]\n",
      " [ 0.          0.          1.        ]]\n"
     ]
    }
   ],
   "source": [
    "print(get_normalization_matrix(x1))"
   ],
   "metadata": {
    "collapsed": false,
    "pycharm": {
     "name": "#%%\n"
    }
   }
  },
  {
   "cell_type": "markdown",
   "metadata": {},
   "source": [
    "### Estimate the fundamental matrix F"
   ]
  },
  {
   "cell_type": "code",
   "execution_count": 212,
   "metadata": {},
   "outputs": [
    {
     "name": "stdout",
     "output_type": "stream",
     "text": [
      "[540.48906686 253.10994477   1.        ]\n",
      "47564.745736612516\n",
      "[544.98363081 262.83825      1.        ]\n",
      "50119.22220267241\n",
      "Estimated fundamental matrix: \n",
      "[[-2.08127144e-03 -1.33307453e-03 -1.95453997e-03 ...  8.38986173e-04\n",
      "   2.76641636e-04 -1.70289571e-03]\n",
      " [-1.43957915e-03 -9.22525554e-04 -1.35200006e-03 ...  5.80985416e-04\n",
      "   1.92918480e-04 -1.17709000e-03]\n",
      " [-1.97707679e-03 -1.26641167e-03 -1.85670267e-03 ...  7.97093261e-04\n",
      "   2.63046888e-04 -1.61751823e-03]\n",
      " ...\n",
      " [ 9.57347214e-04  6.13632894e-04  8.99128733e-04 ... -3.86564868e-04\n",
      "  -1.28757674e-04  7.82558876e-04]\n",
      " [ 4.25939712e-04  2.74042758e-04  4.00212992e-04 ... -1.73489028e-04\n",
      "  -6.07844175e-05  3.46450968e-04]\n",
      " [-1.58848156e-03 -1.01669606e-03 -1.49162991e-03 ...  6.39253452e-04\n",
      "   2.08614388e-04 -1.30093896e-03]]\n"
     ]
    }
   ],
   "source": [
    "F = eight_points_algorithm(x1, x2) \n",
    "assert np.linalg.matrix_rank(F) == 2\n",
    "print('Estimated fundamental matrix: ')\n",
    "print(F)"
   ]
  },
  {
   "cell_type": "markdown",
   "metadata": {},
   "source": [
    "### Plot epipoles and epipolar lines"
   ]
  },
  {
   "cell_type": "code",
   "execution_count": 213,
   "metadata": {},
   "outputs": [
    {
     "ename": "NameError",
     "evalue": "name 'e' is not defined",
     "output_type": "error",
     "traceback": [
      "\u001B[1;31m---------------------------------------------------------------------------\u001B[0m",
      "\u001B[1;31mNameError\u001B[0m                                 Traceback (most recent call last)",
      "\u001B[1;32m~\\AppData\\Local\\Temp/ipykernel_14004/2184223685.py\u001B[0m in \u001B[0;36m<module>\u001B[1;34m\u001B[0m\n\u001B[0;32m      1\u001B[0m \u001B[1;31m# compute the epipole\u001B[0m\u001B[1;33m\u001B[0m\u001B[1;33m\u001B[0m\u001B[1;33m\u001B[0m\u001B[0m\n\u001B[0;32m      2\u001B[0m \u001B[1;31m# TODO: implement this function\u001B[0m\u001B[1;33m\u001B[0m\u001B[1;33m\u001B[0m\u001B[1;33m\u001B[0m\u001B[0m\n\u001B[1;32m----> 3\u001B[1;33m \u001B[0me\u001B[0m \u001B[1;33m=\u001B[0m \u001B[0mright_epipole\u001B[0m\u001B[1;33m(\u001B[0m\u001B[0mF\u001B[0m\u001B[1;33m)\u001B[0m\u001B[1;33m\u001B[0m\u001B[1;33m\u001B[0m\u001B[0m\n\u001B[0m\u001B[0;32m      4\u001B[0m \u001B[1;33m\u001B[0m\u001B[0m\n",
      "\u001B[1;32mD:\\GitHub\\University\\2021 Herbstsemester\\Computervision\\Assignments\\Assignment 02\\Part 01\\template\\utils.py\u001B[0m in \u001B[0;36mright_epipole\u001B[1;34m(F)\u001B[0m\n\u001B[0;32m    133\u001B[0m     \u001B[1;31m# TODO\u001B[0m\u001B[1;33m\u001B[0m\u001B[1;33m\u001B[0m\u001B[1;33m\u001B[0m\u001B[0m\n\u001B[0;32m    134\u001B[0m \u001B[1;33m\u001B[0m\u001B[0m\n\u001B[1;32m--> 135\u001B[1;33m     \u001B[1;32mreturn\u001B[0m \u001B[0me\u001B[0m\u001B[1;33m\u001B[0m\u001B[1;33m\u001B[0m\u001B[0m\n\u001B[0m\u001B[0;32m    136\u001B[0m \u001B[1;33m\u001B[0m\u001B[0m\n\u001B[0;32m    137\u001B[0m \u001B[1;33m\u001B[0m\u001B[0m\n",
      "\u001B[1;31mNameError\u001B[0m: name 'e' is not defined"
     ]
    }
   ],
   "source": [
    "# compute the epipole\n",
    "# TODO: implement this function\n",
    "e = right_epipole(F)  "
   ]
  },
  {
   "cell_type": "code",
   "execution_count": null,
   "metadata": {},
   "outputs": [],
   "source": [
    "plt.figure()\n",
    "plt.imshow(img1)\n",
    "plt.title('Image 1')\n",
    "\n",
    "# plot each line individually, this gives nice colors\n",
    "for i in range(100, 105): \n",
    "    plot_epipolar_line(img1, F.T, x2[:, i], e)\n",
    "\n",
    "plt.axis('off')\n",
    "plt.figure()\n",
    "plt.imshow(img2)\n",
    "plt.title('Image 2')\n",
    "\n",
    "# plot each point individually, this gives same colors as the lines \n",
    "for i in range(100, 105):\n",
    "    plt.plot(x2[0, i], x2[1, i], 'o')\n",
    "    plt.axis('off')"
   ]
  },
  {
   "cell_type": "code",
   "execution_count": null,
   "metadata": {},
   "outputs": [],
   "source": [
    "%matplotlib notebook\n",
    "from ipywidgets import *\n",
    "\n",
    "fig, ax = plt.subplots()\n",
    "ax.imshow(img1)\n",
    "\n",
    "fig2, ax2 = plt.subplots()\n",
    "ax2.imshow(img2)\n",
    "\n",
    "def onclick(event):\n",
    "    ax.plot(event.xdata, event.ydata, 'o')\n",
    "    plot_epipolar_line(img2, F, np.array([event.xdata, event.ydata, 1]), e, ax2)\n",
    "    ax2.imshow(img2)\n",
    "\n",
    "cid = fig.canvas.mpl_connect('button_press_event', onclick)"
   ]
  }
 ],
 "metadata": {
  "kernelspec": {
   "display_name": "Python 3",
   "language": "python",
   "name": "python3"
  },
  "language_info": {
   "codemirror_mode": {
    "name": "ipython",
    "version": 3
   },
   "file_extension": ".py",
   "mimetype": "text/x-python",
   "name": "python",
   "nbconvert_exporter": "python",
   "pygments_lexer": "ipython3",
   "version": "3.7.7"
  }
 },
 "nbformat": 4,
 "nbformat_minor": 4
}