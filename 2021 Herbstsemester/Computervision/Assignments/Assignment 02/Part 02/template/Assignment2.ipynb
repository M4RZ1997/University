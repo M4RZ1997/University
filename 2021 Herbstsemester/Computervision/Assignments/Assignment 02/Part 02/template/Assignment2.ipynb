{
 "cells": [
  {
   "cell_type": "markdown",
   "metadata": {},
   "source": [
    "# Assignment 2 - Epipolar Geometry and 3D Reconstruction \n",
    "\n",
    "First name: Marcel\n",
    "<br>\n",
    "Last name: Zauder\n",
    "<br>\n",
    "Matriculation number: 16-124-836"
   ]
  },
  {
   "cell_type": "code",
   "execution_count": null,
   "metadata": {},
   "outputs": [],
   "source": [
    "%load_ext autoreload\n",
    "%autoreload 2\n",
    "%matplotlib inline\n",
    "import os\n",
    "\n",
    "import numpy as np\n",
    "from PIL import Image\n",
    "import ipyvolume as ipv\n",
    "import matplotlib.pyplot as plt\n",
    "\n",
    "from utils import decompose_essential_matrix, infer_3d, ransac"
   ]
  },
  {
   "cell_type": "markdown",
   "metadata": {},
   "source": [
    "## Part II: 3D Model Reconstruction"
   ]
  },
  {
   "cell_type": "markdown",
   "metadata": {},
   "source": [
    "### Load matched points\n",
    "We provide a synthetic pair of images where noisy correspondences are known."
   ]
  },
  {
   "cell_type": "code",
   "execution_count": null,
   "metadata": {},
   "outputs": [],
   "source": [
    "left = np.array(Image.open(os.path.join('MatchedPoints','left.jpg')), dtype=np.float32).mean(2)/255\n",
    "right = np.array(Image.open(os.path.join('MatchedPoints','right.jpg')), dtype=np.float32).mean(2)/255"
   ]
  },
  {
   "cell_type": "code",
   "execution_count": null,
   "metadata": {},
   "outputs": [],
   "source": [
    "plt.subplot(1,2,1)\n",
    "plt.imshow(left, cmap='gray')\n",
    "plt.title('Left image')\n",
    "plt.subplot(1,2,2)\n",
    "plt.imshow(right, cmap='gray')\n",
    "plt.title('Right image')"
   ]
  },
  {
   "cell_type": "code",
   "execution_count": null,
   "metadata": {},
   "outputs": [],
   "source": [
    "ilias_username = \"z.m.matti\" # TODO\n",
    "A = np.loadtxt(f'MatchedPoints/Matched_Points_{ilias_username}.txt')"
   ]
  },
  {
   "cell_type": "code",
   "execution_count": null,
   "metadata": {},
   "outputs": [],
   "source": [
    "M, N = A.shape\n",
    "leftPoints = np.concatenate((A[:,2:4].T, np.ones((1, M))), axis=0)\n",
    "rightPoints = np.concatenate((A[:,0:2].T, np.ones((1, M))), axis=0)"
   ]
  },
  {
   "cell_type": "markdown",
   "metadata": {},
   "source": [
    "### Calibration matrix and focal length from the given file"
   ]
  },
  {
   "cell_type": "code",
   "execution_count": null,
   "metadata": {},
   "outputs": [],
   "source": [
    "fl = 4\n",
    "K = np.array([\n",
    "    [-83.33333, 0.00000, 250.00000],\n",
    "    [0.00000, -83.33333, 250.00000],\n",
    "    [0.00000, 0.00000,   1.00000],\n",
    "])\n",
    "\n",
    "I = K.copy()\n",
    "\n",
    "I[0,0] *= fl\n",
    "I[1,1] *= fl"
   ]
  },
  {
   "cell_type": "markdown",
   "metadata": {},
   "source": [
    "### Estimate Essential matrix E from F with RANSAC"
   ]
  },
  {
   "cell_type": "code",
   "execution_count": null,
   "metadata": {},
   "outputs": [],
   "source": [
    "good_threshold = 0.001 # TODO\n",
    "F, inliers = ransac(leftPoints, rightPoints, good_threshold)\n",
    "print('Num outliers', leftPoints.shape[1] - inliers.sum(), ', outlier indices', np.argwhere(inliers == 0))\n",
    "assert np.linalg.matrix_rank(F) == 2\n",
    "print('Estimated fundamental matrix: ')\n",
    "print(F)\n",
    "\n",
    "# TODO: Estimate essential matrix E from F\n",
    "E = I.T @ F @ I\n",
    "\n",
    "print('Estimated essential matrix: ')\n",
    "print(E)"
   ]
  },
  {
   "cell_type": "markdown",
   "metadata": {},
   "source": [
    "### Compute rotation and translation between views"
   ]
  },
  {
   "cell_type": "code",
   "execution_count": null,
   "metadata": {},
   "outputs": [],
   "source": [
    "# TODO: Compute rotation and translation between views. Complete decompose E\n",
    "Il = np.linalg.solve(I, leftPoints)\n",
    "Ir = np.linalg.solve(I, rightPoints)\n",
    "\n",
    "Pl, Pr = decompose_essential_matrix(E, Il, Ir)\n",
    "\n",
    "print('Estimated translation: ')\n",
    "print(Pr[:,3])\n",
    "print('Estimated rotation: ')\n",
    "print(Pr[:,:3])"
   ]
  },
  {
   "cell_type": "markdown",
   "metadata": {},
   "source": [
    "### Estimate the 3D points"
   ]
  },
  {
   "cell_type": "code",
   "execution_count": null,
   "metadata": {
    "pycharm": {
     "name": "#%%\n"
    }
   },
   "outputs": [],
   "source": [
    "x3D = infer_3d(Il, Ir, Pl, Pr)\n",
    "ipv.quickscatter(x=x3D[0,:], y=x3D[1,:], z=x3D[2,:])"
   ]
  },
  {
   "cell_type": "code",
   "execution_count": null,
   "metadata": {},
   "outputs": [],
   "source": [
    "# Calculate homogenous transfomration matrices for both cameras from extrinsic cood\n",
    "# Rotation of the Right Camera\n",
    "Rr = np.array([[0.92848,  -0.12930,   0.34815],\n",
    "               [0.00000,   0.93744,   0.34815],\n",
    "               [-0.37139,  -0.32325,   0.87039]])\n",
    "\n",
    "# Translation of the Right Camera\n",
    "tr = np.array([-2.0, 2.0, 5.0])\n",
    "\n",
    "# Compute homogenous transformation matrix of Right Camera\n",
    "\n",
    "# Rotation of the Left Camera with respect to world frame\n",
    "Rl = np.array([[1.00000,   0.00000,   0.00000],\n",
    "               [0.00000,   0.92848,   0.37139],\n",
    "               [0.00000,  -0.37139,   0.92848]])\n",
    "\n",
    "# Translation of the Left Camera with respect to world frame\n",
    "tl = np.array([0.0, 2.0, 5.0])"
   ]
  }
 ],
 "metadata": {
  "kernelspec": {
   "display_name": "Python 3 (ipykernel)",
   "language": "python",
   "name": "python3"
  },
  "language_info": {
   "codemirror_mode": {
    "name": "ipython",
    "version": 3
   },
   "file_extension": ".py",
   "mimetype": "text/x-python",
   "name": "python",
   "nbconvert_exporter": "python",
   "pygments_lexer": "ipython3",
   "version": "3.8.5"
  }
 },
 "nbformat": 4,
 "nbformat_minor": 4
}