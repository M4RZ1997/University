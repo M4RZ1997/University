{
 "cells": [
  {
   "cell_type": "markdown",
   "metadata": {},
   "source": [
    "# Assignment 2 - Epipolar Geometry and 3D Reconstruction \n",
    "\n",
    "First name:\n",
    "<br>\n",
    "Last name: \n",
    "<br>\n",
    "Matriculation number:"
   ]
  },
  {
   "cell_type": "code",
   "execution_count": 1,
   "metadata": {},
   "outputs": [],
   "source": [
    "%load_ext autoreload\n",
    "%autoreload 2\n",
    "%matplotlib inline\n",
    "import os\n",
    "\n",
    "import numpy as np\n",
    "from PIL import Image\n",
    "import ipyvolume as ipv\n",
    "import matplotlib.pyplot as plt\n",
    "\n",
    "from utils import decompose_essential_matrix, infer_3d, ransac # get_euler_angles_and_translation"
   ]
  },
  {
   "cell_type": "markdown",
   "metadata": {},
   "source": [
    "## Part II: 3D Model Reconstruction"
   ]
  },
  {
   "cell_type": "markdown",
   "metadata": {},
   "source": [
    "### Load matched points\n",
    "We provide a synthetic pair of images where noisy correspondences are known."
   ]
  },
  {
   "cell_type": "code",
   "execution_count": 2,
   "metadata": {},
   "outputs": [],
   "source": [
    "left = np.array(Image.open(os.path.join('MatchedPoints','left.jpg')), dtype=np.float32).mean(2)/255\n",
    "right = np.array(Image.open(os.path.join('MatchedPoints','right.jpg')), dtype=np.float32).mean(2)/255"
   ]
  },
  {
   "cell_type": "code",
   "execution_count": 3,
   "metadata": {},
   "outputs": [
    {
     "data": {
      "text/plain": [
       "Text(0.5, 1.0, 'Right image')"
      ]
     },
     "execution_count": 3,
     "metadata": {},
     "output_type": "execute_result"
    },
    {
     "data": {
      "image/png": "[encoded data removed]",
      "text/plain": [
       "<Figure size 432x288 with 2 Axes>"
      ]
     },
     "metadata": {
      "needs_background": "light"
     },
     "output_type": "display_data"
    }
   ],
   "source": [
    "plt.subplot(1,2,1)\n",
    "plt.imshow(left, cmap='gray')\n",
    "plt.title('Left image')\n",
    "plt.subplot(1,2,2)\n",
    "plt.imshow(right, cmap='gray')\n",
    "plt.title('Right image')"
   ]
  },
  {
   "cell_type": "code",
   "execution_count": 4,
   "metadata": {},
   "outputs": [
    {
     "data": {
      "text/plain": [
       "<matplotlib.collections.PathCollection at 0x13389280>"
      ]
     },
     "execution_count": 4,
     "metadata": {},
     "output_type": "execute_result"
    },
    {
     "data": {
      "image/png": "[encoded data removed]",
      "text/plain": [
       "<Figure size 432x288 with 1 Axes>"
      ]
     },
     "metadata": {
      "needs_background": "light"
     },
     "output_type": "display_data"
    }
   ],
   "source": [
    "ilias_username = 'z.m.matti'\n",
    "A = np.loadtxt(f'MatchedPoints/Matched_Points_{ilias_username}.txt')\n",
    "# A = np.loadtxt(f'MatchedPoints/Matched_Points.txt') # clean data\n",
    "M, N = A.shape\n",
    "left_points = np.concatenate((A[:,2:4].T, np.ones((1, M))), axis=0)\n",
    "right_points = np.concatenate((A[:,0:2].T, np.ones((1, M))), axis=0)\n",
    "plt.scatter(left_points[0, :], left_points[1, :])"
   ]
  },
  {
   "cell_type": "markdown",
   "metadata": {},
   "source": [
    "### Calibration matrix and focal length from the given file"
   ]
  },
  {
   "cell_type": "code",
   "execution_count": 5,
   "metadata": {},
   "outputs": [],
   "source": [
    "fl = 4\n",
    "K = np.array([\n",
    "    [-83.33333, 0.00000, 250.00000],\n",
    "    [0.00000, -83.33333, 250.00000],\n",
    "    [0.00000, 0.00000,   1.00000],\n",
    "])\n",
    "\n",
    "I = K.copy()\n",
    "\n",
    "I[0,0] *= fl\n",
    "I[1,1] *= fl"
   ]
  },
  {
   "cell_type": "markdown",
   "metadata": {},
   "source": [
    "### Estimate Essential matrix E from F with RANSAC"
   ]
  },
  {
   "cell_type": "code",
   "execution_count": 6,
   "metadata": {},
   "outputs": [
    {
     "name": "stdout",
     "output_type": "stream",
     "text": [
      "(array([2746], dtype=int32),)\n",
      "(array([2746], dtype=int32),)\n",
      "(array([    0,     1,     2, ..., 12587, 12588, 12589], dtype=int32),)\n",
      "(array([    0,     1,     2, ..., 12587, 12588, 12589], dtype=int32),)\n",
      "(array([ 2746,  3836, 11490], dtype=int32),)\n",
      "(array([    0,     1,     2, ..., 12587, 12588, 12589], dtype=int32),)\n",
      "(array([    0,     1,     2, ..., 12587, 12588, 12589], dtype=int32),)\n",
      "(array([ 2746,  3836, 11490], dtype=int32),)\n",
      "(array([    0,     1,     2, ..., 12587, 12588, 12589], dtype=int32),)\n",
      "(array([    0,     1,     2, ..., 12587, 12588, 12589], dtype=int32),)\n",
      "(array([ 2746,  3836, 11490], dtype=int32),)\n",
      "(array([    0,     1,     2, ..., 12587, 12588, 12589], dtype=int32),)\n",
      "(array([    0,     1,     2, ..., 12587, 12588, 12589], dtype=int32),)\n",
      "(array([ 2746,  3836, 11490], dtype=int32),)\n",
      "(array([    0,     1,     2, ..., 12587, 12588, 12589], dtype=int32),)\n",
      "(array([    0,     1,     2, ..., 12587, 12588, 12589], dtype=int32),)\n",
      "(array([ 2746,  3836, 11490], dtype=int32),)\n",
      "(array([    0,     1,     2, ..., 12587, 12588, 12589], dtype=int32),)\n",
      "(array([    0,     1,     2, ..., 12587, 12588, 12589], dtype=int32),)\n",
      "(array([ 2746,  3836, 11490], dtype=int32),)\n",
      "(array([    0,     1,     2, ..., 12587, 12588, 12589], dtype=int32),)\n",
      "(array([    0,     1,     2, ..., 12587, 12588, 12589], dtype=int32),)\n",
      "(array([ 2746,  3836, 11490], dtype=int32),)\n",
      "(array([    0,     1,     2, ..., 12587, 12588, 12589], dtype=int32),)\n",
      "(array([    0,     1,     2, ..., 12587, 12588, 12589], dtype=int32),)\n",
      "(array([ 2746,  3836, 11490], dtype=int32),)\n",
      "(array([    0,     1,     2, ..., 12587, 12588, 12589], dtype=int32),)\n",
      "(array([    0,     1,     2, ..., 12587, 12588, 12589], dtype=int32),)\n",
      "(array([ 2746,  3836, 11490], dtype=int32),)\n",
      "(array([    0,     1,     2, ..., 12587, 12588, 12589], dtype=int32),)\n",
      "(array([    0,     1,     2, ..., 12587, 12588, 12589], dtype=int32),)\n",
      "(array([ 2746,  3836, 11490], dtype=int32),)\n",
      "(array([    0,     1,     2, ..., 12587, 12588, 12589], dtype=int32),)\n",
      "(array([    0,     1,     2, ..., 12587, 12588, 12589], dtype=int32),)\n",
      "(array([ 2746,  3836, 11490], dtype=int32),)\n",
      "(array([    0,     1,     2, ..., 12587, 12588, 12589], dtype=int32),)\n",
      "(array([    0,     1,     2, ..., 12587, 12588, 12589], dtype=int32),)\n",
      "(array([ 2746,  3836, 11490], dtype=int32),)\n",
      "(array([    0,     1,     2, ..., 12587, 12588, 12589], dtype=int32),)\n",
      "(array([    0,     1,     2, ..., 12587, 12588, 12589], dtype=int32),)\n",
      "(array([ 2746,  3836, 11490], dtype=int32),)\n",
      "(array([    0,     1,     2, ..., 12587, 12588, 12589], dtype=int32),)\n",
      "(array([    0,     1,     2, ..., 12587, 12588, 12589], dtype=int32),)\n",
      "(array([ 2746,  3836, 11490], dtype=int32),)\n",
      "(array([    0,     1,     2, ..., 12587, 12588, 12589], dtype=int32),)\n",
      "(array([    0,     1,     2, ..., 12587, 12588, 12589], dtype=int32),)\n",
      "(array([ 2746,  3836, 11490], dtype=int32),)\n",
      "(array([    0,     1,     2, ..., 12587, 12588, 12589], dtype=int32),)\n",
      "(array([    0,     1,     2, ..., 12587, 12588, 12589], dtype=int32),)\n",
      "(array([ 2746,  3836, 11490], dtype=int32),)\n",
      "(array([    0,     1,     2, ..., 12587, 12588, 12589], dtype=int32),)\n",
      "(array([    0,     1,     2, ..., 12587, 12588, 12589], dtype=int32),)\n",
      "(array([ 2746,  3836, 11490], dtype=int32),)\n",
      "(array([    0,     1,     2, ..., 12587, 12588, 12589], dtype=int32),)\n",
      "(array([    0,     1,     2, ..., 12587, 12588, 12589], dtype=int32),)\n",
      "(array([ 2746,  3836, 11490], dtype=int32),)\n",
      "(array([    0,     1,     2, ..., 12587, 12588, 12589], dtype=int32),)\n",
      "(array([    0,     1,     2, ..., 12587, 12588, 12589], dtype=int32),)\n"
     ]
    },
    {
     "ename": "KeyboardInterrupt",
     "evalue": "",
     "output_type": "error",
     "traceback": [
      "\u001b[1;31m---------------------------------------------------------------------------\u001b[0m",
      "\u001b[1;31mKeyboardInterrupt\u001b[0m                         Traceback (most recent call last)",
      "\u001b[1;32m~\\AppData\\Local\\Temp/ipykernel_7368/2672232935.py\u001b[0m in \u001b[0;36m<module>\u001b[1;34m\u001b[0m\n\u001b[1;32m----> 1\u001b[1;33m \u001b[0mF\u001b[0m\u001b[1;33m,\u001b[0m \u001b[0minliers\u001b[0m \u001b[1;33m=\u001b[0m \u001b[0mransac\u001b[0m\u001b[1;33m(\u001b[0m\u001b[0mleft_points\u001b[0m\u001b[1;33m,\u001b[0m \u001b[0mright_points\u001b[0m\u001b[1;33m,\u001b[0m \u001b[1;36m0.1\u001b[0m\u001b[1;33m,\u001b[0m \u001b[1;36m1000\u001b[0m\u001b[1;33m)\u001b[0m\u001b[1;33m\u001b[0m\u001b[1;33m\u001b[0m\u001b[0m\n\u001b[0m\u001b[0;32m      2\u001b[0m \u001b[0mprint\u001b[0m\u001b[1;33m(\u001b[0m\u001b[1;34m'Num outliers'\u001b[0m\u001b[1;33m,\u001b[0m \u001b[0mleft_points\u001b[0m\u001b[1;33m.\u001b[0m\u001b[0mshape\u001b[0m\u001b[1;33m[\u001b[0m\u001b[1;36m1\u001b[0m\u001b[1;33m]\u001b[0m \u001b[1;33m-\u001b[0m \u001b[0minliers\u001b[0m\u001b[1;33m.\u001b[0m\u001b[0msum\u001b[0m\u001b[1;33m(\u001b[0m\u001b[1;33m)\u001b[0m\u001b[1;33m)\u001b[0m\u001b[1;33m\u001b[0m\u001b[1;33m\u001b[0m\u001b[0m\n\u001b[0;32m      3\u001b[0m \u001b[1;32massert\u001b[0m \u001b[0mnp\u001b[0m\u001b[1;33m.\u001b[0m\u001b[0mlinalg\u001b[0m\u001b[1;33m.\u001b[0m\u001b[0mmatrix_rank\u001b[0m\u001b[1;33m(\u001b[0m\u001b[0mF\u001b[0m\u001b[1;33m)\u001b[0m \u001b[1;33m==\u001b[0m \u001b[1;36m2\u001b[0m\u001b[1;33m\u001b[0m\u001b[1;33m\u001b[0m\u001b[0m\n\u001b[0;32m      4\u001b[0m \u001b[0mprint\u001b[0m\u001b[1;33m(\u001b[0m\u001b[1;34m'Estimated fundamental matrix: '\u001b[0m\u001b[1;33m)\u001b[0m\u001b[1;33m\u001b[0m\u001b[1;33m\u001b[0m\u001b[0m\n\u001b[0;32m      5\u001b[0m \u001b[0mprint\u001b[0m\u001b[1;33m(\u001b[0m\u001b[0mF\u001b[0m\u001b[1;33m)\u001b[0m\u001b[1;33m\u001b[0m\u001b[1;33m\u001b[0m\u001b[0m\n",
      "\u001b[1;32mD:\\GitHub\\University\\2021 Herbstsemester\\Computervision\\Assignments\\Assignment 02\\Part 02\\template\\utils.py\u001b[0m in \u001b[0;36mransac\u001b[1;34m(x1, x2, threshold, num_steps, random_seed)\u001b[0m\n\u001b[0;32m    116\u001b[0m     \u001b[0mconverged\u001b[0m \u001b[1;33m=\u001b[0m \u001b[1;32mFalse\u001b[0m\u001b[1;33m\u001b[0m\u001b[1;33m\u001b[0m\u001b[0m\n\u001b[0;32m    117\u001b[0m     \u001b[1;32mwhile\u001b[0m \u001b[1;32mnot\u001b[0m \u001b[0mconverged\u001b[0m\u001b[1;33m:\u001b[0m\u001b[1;33m\u001b[0m\u001b[1;33m\u001b[0m\u001b[0m\n\u001b[1;32m--> 118\u001b[1;33m         \u001b[0mF\u001b[0m \u001b[1;33m=\u001b[0m \u001b[0meight_points_algorithm\u001b[0m\u001b[1;33m(\u001b[0m\u001b[0mx1\u001b[0m\u001b[1;33m[\u001b[0m\u001b[1;33m:\u001b[0m\u001b[1;33m,\u001b[0m \u001b[0mbest_inliers\u001b[0m\u001b[1;33m]\u001b[0m\u001b[1;33m,\u001b[0m \u001b[0mx2\u001b[0m\u001b[1;33m[\u001b[0m\u001b[1;33m:\u001b[0m\u001b[1;33m,\u001b[0m \u001b[0mbest_inliers\u001b[0m\u001b[1;33m]\u001b[0m\u001b[1;33m)\u001b[0m\u001b[1;33m\u001b[0m\u001b[1;33m\u001b[0m\u001b[0m\n\u001b[0m\u001b[0;32m    119\u001b[0m         \u001b[0mprint\u001b[0m\u001b[1;33m(\u001b[0m\u001b[0mnp\u001b[0m\u001b[1;33m.\u001b[0m\u001b[0mwhere\u001b[0m\u001b[1;33m(\u001b[0m\u001b[0mbest_inliers\u001b[0m \u001b[1;33m==\u001b[0m \u001b[1;32mFalse\u001b[0m\u001b[1;33m)\u001b[0m\u001b[1;33m)\u001b[0m\u001b[1;33m\u001b[0m\u001b[1;33m\u001b[0m\u001b[0m\n\u001b[0;32m    120\u001b[0m         \u001b[0merror_indicator\u001b[0m \u001b[1;33m=\u001b[0m \u001b[0mnp\u001b[0m\u001b[1;33m.\u001b[0m\u001b[0msquare\u001b[0m\u001b[1;33m(\u001b[0m\u001b[0mnp\u001b[0m\u001b[1;33m.\u001b[0m\u001b[0msum\u001b[0m\u001b[1;33m(\u001b[0m\u001b[0mx2\u001b[0m \u001b[1;33m*\u001b[0m \u001b[1;33m(\u001b[0m\u001b[0mnp\u001b[0m\u001b[1;33m.\u001b[0m\u001b[0mmatmul\u001b[0m\u001b[1;33m(\u001b[0m\u001b[0mF\u001b[0m\u001b[1;33m,\u001b[0m \u001b[0mx1\u001b[0m\u001b[1;33m)\u001b[0m\u001b[1;33m)\u001b[0m\u001b[1;33m,\u001b[0m \u001b[0maxis\u001b[0m\u001b[1;33m=\u001b[0m\u001b[1;36m0\u001b[0m\u001b[1;33m)\u001b[0m\u001b[1;33m)\u001b[0m\u001b[1;33m\u001b[0m\u001b[1;33m\u001b[0m\u001b[0m\n",
      "\u001b[1;32mD:\\GitHub\\University\\2021 Herbstsemester\\Computervision\\Assignments\\Assignment 02\\Part 02\\template\\utils.py\u001b[0m in \u001b[0;36meight_points_algorithm\u001b[1;34m(x1, x2, normalize)\u001b[0m\n\u001b[0;32m     57\u001b[0m \u001b[1;33m\u001b[0m\u001b[0m\n\u001b[0;32m     58\u001b[0m         \u001b[1;31m# Normalize inputs\u001b[0m\u001b[1;33m\u001b[0m\u001b[1;33m\u001b[0m\u001b[1;33m\u001b[0m\u001b[0m\n\u001b[1;32m---> 59\u001b[1;33m         \u001b[0mn1\u001b[0m \u001b[1;33m=\u001b[0m \u001b[0mnp\u001b[0m\u001b[1;33m.\u001b[0m\u001b[0mapply_along_axis\u001b[0m\u001b[1;33m(\u001b[0m\u001b[1;32mlambda\u001b[0m \u001b[0mpoint\u001b[0m\u001b[1;33m:\u001b[0m \u001b[0mnp\u001b[0m\u001b[1;33m.\u001b[0m\u001b[0mmatmul\u001b[0m\u001b[1;33m(\u001b[0m\u001b[0mT1\u001b[0m\u001b[1;33m,\u001b[0m \u001b[0mpoint\u001b[0m\u001b[1;33m)\u001b[0m\u001b[1;33m,\u001b[0m \u001b[1;36m0\u001b[0m\u001b[1;33m,\u001b[0m \u001b[0mx1\u001b[0m\u001b[1;33m)\u001b[0m\u001b[1;33m\u001b[0m\u001b[1;33m\u001b[0m\u001b[0m\n\u001b[0m\u001b[0;32m     60\u001b[0m         \u001b[0mn2\u001b[0m \u001b[1;33m=\u001b[0m \u001b[0mnp\u001b[0m\u001b[1;33m.\u001b[0m\u001b[0mapply_along_axis\u001b[0m\u001b[1;33m(\u001b[0m\u001b[1;32mlambda\u001b[0m \u001b[0mpoint\u001b[0m\u001b[1;33m:\u001b[0m \u001b[0mnp\u001b[0m\u001b[1;33m.\u001b[0m\u001b[0mmatmul\u001b[0m\u001b[1;33m(\u001b[0m\u001b[0mT2\u001b[0m\u001b[1;33m,\u001b[0m \u001b[0mpoint\u001b[0m\u001b[1;33m)\u001b[0m\u001b[1;33m,\u001b[0m \u001b[1;36m0\u001b[0m\u001b[1;33m,\u001b[0m \u001b[0mx2\u001b[0m\u001b[1;33m)\u001b[0m\u001b[1;33m\u001b[0m\u001b[1;33m\u001b[0m\u001b[0m\n\u001b[0;32m     61\u001b[0m     \u001b[1;32melse\u001b[0m\u001b[1;33m:\u001b[0m\u001b[1;33m\u001b[0m\u001b[1;33m\u001b[0m\u001b[0m\n",
      "\u001b[1;32m<__array_function__ internals>\u001b[0m in \u001b[0;36mapply_along_axis\u001b[1;34m(*args, **kwargs)\u001b[0m\n",
      "\u001b[1;32m~\\AppData\\Local\\Programs\\Python\\Python38-32\\lib\\site-packages\\numpy\\lib\\shape_base.py\u001b[0m in \u001b[0;36mapply_along_axis\u001b[1;34m(func1d, axis, arr, *args, **kwargs)\u001b[0m\n\u001b[0;32m    400\u001b[0m     \u001b[0mbuff\u001b[0m\u001b[1;33m[\u001b[0m\u001b[0mind0\u001b[0m\u001b[1;33m]\u001b[0m \u001b[1;33m=\u001b[0m \u001b[0mres\u001b[0m\u001b[1;33m\u001b[0m\u001b[1;33m\u001b[0m\u001b[0m\n\u001b[0;32m    401\u001b[0m     \u001b[1;32mfor\u001b[0m \u001b[0mind\u001b[0m \u001b[1;32min\u001b[0m \u001b[0minds\u001b[0m\u001b[1;33m:\u001b[0m\u001b[1;33m\u001b[0m\u001b[1;33m\u001b[0m\u001b[0m\n\u001b[1;32m--> 402\u001b[1;33m         \u001b[0mbuff\u001b[0m\u001b[1;33m[\u001b[0m\u001b[0mind\u001b[0m\u001b[1;33m]\u001b[0m \u001b[1;33m=\u001b[0m \u001b[0masanyarray\u001b[0m\u001b[1;33m(\u001b[0m\u001b[0mfunc1d\u001b[0m\u001b[1;33m(\u001b[0m\u001b[0minarr_view\u001b[0m\u001b[1;33m[\u001b[0m\u001b[0mind\u001b[0m\u001b[1;33m]\u001b[0m\u001b[1;33m,\u001b[0m \u001b[1;33m*\u001b[0m\u001b[0margs\u001b[0m\u001b[1;33m,\u001b[0m \u001b[1;33m**\u001b[0m\u001b[0mkwargs\u001b[0m\u001b[1;33m)\u001b[0m\u001b[1;33m)\u001b[0m\u001b[1;33m\u001b[0m\u001b[1;33m\u001b[0m\u001b[0m\n\u001b[0m\u001b[0;32m    403\u001b[0m \u001b[1;33m\u001b[0m\u001b[0m\n\u001b[0;32m    404\u001b[0m     \u001b[1;32mif\u001b[0m \u001b[1;32mnot\u001b[0m \u001b[0misinstance\u001b[0m\u001b[1;33m(\u001b[0m\u001b[0mres\u001b[0m\u001b[1;33m,\u001b[0m \u001b[0mmatrix\u001b[0m\u001b[1;33m)\u001b[0m\u001b[1;33m:\u001b[0m\u001b[1;33m\u001b[0m\u001b[1;33m\u001b[0m\u001b[0m\n",
      "\u001b[1;31mKeyboardInterrupt\u001b[0m: "
     ]
    }
   ],
   "source": [
    "F, inliers = ransac(left_points, right_points, 0.1, 1000)\n",
    "print('Num outliers', left_points.shape[1] - inliers.sum())\n",
    "assert np.linalg.matrix_rank(F) == 2\n",
    "print('Estimated fundamental matrix: ')\n",
    "print(F)\n",
    "\n",
    "E = I.T @ F @ I\n",
    "\n",
    "print('Estimated essential matrix: ')\n",
    "print(E)"
   ]
  },
  {
   "cell_type": "markdown",
   "metadata": {},
   "source": [
    "### Compute rotation and translation between views"
   ]
  },
  {
   "cell_type": "code",
   "execution_count": null,
   "metadata": {},
   "outputs": [],
   "source": [
    "# Compute Rotation and translation between views\n",
    "Il = np.linalg.solve(I, left_points[:, inliers])\n",
    "Ir = np.linalg.solve(I, right_points[:, inliers])\n",
    "\n",
    "Pl, Pr = decompose_essential_matrix(E, Il, Ir)\n",
    "\n",
    "print('Estimated translation: ')\n",
    "print(Pr[:,3])\n",
    "print('Estimated rotation: ')\n",
    "print(Pr[:,:3])"
   ]
  },
  {
   "cell_type": "markdown",
   "metadata": {},
   "source": [
    "### Estimate the 3D points"
   ]
  },
  {
   "cell_type": "code",
   "execution_count": null,
   "metadata": {
    "pycharm": {
     "name": "#%%\n"
    }
   },
   "outputs": [],
   "source": [
    "x_3d = infer_3d(Il, Ir, Pl, Pr)\n",
    "ipv.quickscatter(x=x_3d[0,:], y=x_3d[1,:], z=x_3d[2,:])"
   ]
  },
  {
   "cell_type": "code",
   "execution_count": null,
   "metadata": {},
   "outputs": [],
   "source": [
    "R_XYZ_c_deg, tc = get_euler_angles_and_translation(Pr)\n",
    "\n",
    "# Calculate exact solution from camera extrinsic parameters\n",
    "# Rotation of the Right Camera with respect to world frame\n",
    "Rr = np.array([[0.92848,  -0.12930,   0.34815],\n",
    "               [0.00000,   0.93744,   0.34815],\n",
    "               [-0.37139,  -0.32325,   0.87039]])\n",
    "\n",
    "# Translation of the Right Camera with respect to world frame\n",
    "tr = np.array([-2.0, 2.0, 5.0])\n",
    "\n",
    "# Homogeneous transformation from Right camera to world\n",
    "Tr_b = np.zeros((4,4))\n",
    "Tr_b[0:3,0:3] = Rr\n",
    "Tr_b[3,3] = 1\n",
    "Tr_b[0:3,3] = tr\n",
    "\n",
    "# Rotation of the Left Camera with respect to world frame\n",
    "Rl = np.array([[1.00000,   0.00000,   0.00000],\n",
    "               [0.00000,   0.92848,   0.37139],\n",
    "               [0.00000,  -0.37139,   0.92848]])\n",
    "\n",
    "# Translation of the Left Camera with respect to world frame\n",
    "tl = np.array([0.0, 2.0, 5.0])\n",
    "\n",
    "# Homogenious transformation from world to Left camera\n",
    "Tb_l = np.zeros((4,4))\n",
    "Tb_l[0:3,0:3] = Rl.T\n",
    "Tb_l[3,3] = 1\n",
    "Tb_l[0:3,3] =  - Rl.T @ tl\n",
    "\n",
    "# Transformation from Right to Left camera frames\n",
    "Tl_r = np.zeros((4,4))\n",
    "Tl_r = Tb_l @ Tr_b\n",
    "\n",
    "# As Pr is the inverse transformation, invert this the result\n",
    "# in order to compare them\n",
    "Tr_r = np.copy(Tl_r)\n",
    "Tr_r[0:3,0:3] = Tl_r[0:3,0:3].T\n",
    "Tr_r[0:3,3] = - Tl_r[0:3,0:3].T @ Tl_r[0:3,3]\n",
    "\n",
    "R_XYZ_r_deg, tr = get_euler_angles_and_translation(Tr_r)\n",
    "# Normalize translation in order to compare them\n",
    "tr = tr[:3]\n",
    "normalized_tr = tr/(np.sqrt(np.sum(np.square(tr))))\n",
    "\n",
    "print('estimated rotation', R_XYZ_c_deg)\n",
    "print('ground truth rotation', R_XYZ_r_deg)\n",
    "print('estimated translation', tc)\n",
    "print('ground truth translation', normalized_tr)\n",
    "\n",
    "print('L1-Norm of the rotation error: {}'.format(np.sum(np.abs(R_XYZ_r_deg - R_XYZ_c_deg))))\n",
    "print('L1-Norm of the translation error: {}'.format(np.sum(np.abs(normalized_tr - tc))))"
   ]
  }
 ],
 "metadata": {
  "kernelspec": {
   "display_name": "Python 3 (ipykernel)",
   "language": "python",
   "name": "python3"
  },
  "language_info": {
   "codemirror_mode": {
    "name": "ipython",
    "version": 3
   },
   "file_extension": ".py",
   "mimetype": "text/x-python",
   "name": "python",
   "nbconvert_exporter": "python",
   "pygments_lexer": "ipython3",
   "version": "3.8.5"
  }
 },
 "nbformat": 4,
 "nbformat_minor": 4
}
