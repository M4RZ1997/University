{
 "cells": [
  {
   "cell_type": "markdown",
   "metadata": {},
   "source": [
    "# Dogs vs Cats\n",
    "We'll create a simple cat vs dog classifier.  \n",
    "Dataset can be downloaded from https://www.microsoft.com/en-us/download/details.aspx?id=54765\n",
    "\n",
    "**Data**: Labeled images of dogs and cats.  \n",
    "We want to learn a **classifier**: A function that returns a label (here: `cat`/`dog`) for images"
   ]
  },
  {
   "cell_type": "code",
   "execution_count": 11,
   "metadata": {},
   "outputs": [],
   "source": [
    "# !unzip kagglecatsanddogs_5340.zip"
   ]
  },
  {
   "cell_type": "markdown",
   "metadata": {},
   "source": [
    "# Read images"
   ]
  },
  {
   "cell_type": "code",
   "execution_count": 12,
   "metadata": {},
   "outputs": [],
   "source": [
    "import os\n",
    "dog_dir = 'PetImages/Dog'\n",
    "cat_dir = 'PetImages/Cat'\n",
    "dog_paths = os.listdir(dog_dir)\n",
    "cat_paths = os.listdir(cat_dir)"
   ]
  },
  {
   "cell_type": "code",
   "execution_count": 13,
   "metadata": {},
   "outputs": [
    {
     "data": {
      "text/plain": "(12501, 12501)"
     },
     "execution_count": 13,
     "metadata": {},
     "output_type": "execute_result"
    }
   ],
   "source": [
    "len(dog_paths), len(cat_paths)"
   ]
  },
  {
   "cell_type": "code",
   "execution_count": 14,
   "metadata": {},
   "outputs": [
    {
     "name": "stdout",
     "output_type": "stream",
     "text": [
      "['0.jpg', '1.jpg', '10.jpg', '100.jpg', '1000.jpg', '10000.jpg', '10001.jpg', '10002.jpg', '10003.jpg', '10004.jpg']\n"
     ]
    }
   ],
   "source": [
    "print(dog_paths[:10])"
   ]
  },
  {
   "cell_type": "code",
   "execution_count": 15,
   "metadata": {},
   "outputs": [
    {
     "name": "stdout",
     "output_type": "stream",
     "text": [
      "['0.jpg', '1.jpg', '10.jpg', '100.jpg', '1000.jpg', '10000.jpg', '10001.jpg', '10002.jpg', '10003.jpg', '10004.jpg']\n"
     ]
    }
   ],
   "source": [
    "# sort the paths\n",
    "dog_paths.sort()\n",
    "cat_paths.sort()\n",
    "print(dog_paths[:10])\n",
    "\n",
    "dog_paths = [os.path.join(dog_dir, dog_path) for dog_path in dog_paths if dog_path.endswith('.jpg')]\n",
    "cat_paths = [os.path.join(cat_dir, cat_path) for cat_path in cat_paths if cat_path.endswith('.jpg')]"
   ]
  },
  {
   "cell_type": "code",
   "execution_count": 16,
   "metadata": {},
   "outputs": [],
   "source": [
    "# Pillow library for decoding images\n",
    "from PIL import Image\n",
    "def load_images(image_paths, target_size):\n",
    "    images = []\n",
    "    ## TODO: Load images from disk, resize to target_size, and return list of images\n",
    "    ## Pillow library, Image class - open, convert, resize: https://pillow.readthedocs.io/en/stable/reference/Image.html\n",
    "\n",
    "    return images"
   ]
  },
  {
   "cell_type": "code",
   "execution_count": 17,
   "metadata": {},
   "outputs": [],
   "source": [
    "import numpy as np\n",
    "\n",
    "n_imgs = 1200\n",
    "target_size = (128, 128) # Easier to compare images of the same size\n",
    "\n",
    "## Load 1200 images for each class\n",
    "dog_images = load_images(dog_paths[:n_imgs], target_size)\n",
    "cat_images = load_images(cat_paths[:n_imgs], target_size)"
   ]
  },
  {
   "cell_type": "code",
   "execution_count": 18,
   "metadata": {},
   "outputs": [
    {
     "data": {
      "text/plain": "(0, 0)"
     },
     "execution_count": 18,
     "metadata": {},
     "output_type": "execute_result"
    }
   ],
   "source": [
    "len(dog_images), len(cat_images)"
   ]
  },
  {
   "cell_type": "code",
   "execution_count": 19,
   "metadata": {},
   "outputs": [
    {
     "ename": "IndexError",
     "evalue": "list index out of range",
     "output_type": "error",
     "traceback": [
      "\u001B[1;31m---------------------------------------------------------------------------\u001B[0m",
      "\u001B[1;31mIndexError\u001B[0m                                Traceback (most recent call last)",
      "Cell \u001B[1;32mIn[19], line 1\u001B[0m\n\u001B[1;32m----> 1\u001B[0m \u001B[43mdog_images\u001B[49m\u001B[43m[\u001B[49m\u001B[38;5;241;43m0\u001B[39;49m\u001B[43m]\u001B[49m\u001B[38;5;241m.\u001B[39mshape\n",
      "\u001B[1;31mIndexError\u001B[0m: list index out of range"
     ]
    }
   ],
   "source": [
    "dog_images[0].shape"
   ]
  },
  {
   "cell_type": "code",
   "execution_count": null,
   "metadata": {},
   "outputs": [],
   "source": [
    "dog_images[0]"
   ]
  },
  {
   "cell_type": "markdown",
   "metadata": {},
   "source": [
    "# Show some dogs and cats!"
   ]
  },
  {
   "cell_type": "code",
   "execution_count": null,
   "metadata": {},
   "outputs": [],
   "source": [
    "%matplotlib inline\n",
    "import matplotlib.pyplot as plt"
   ]
  },
  {
   "cell_type": "markdown",
   "metadata": {},
   "source": [
    "Use `imshow` function from matplotlib: https://matplotlib.org/3.1.3/api/_as_gen/matplotlib.pyplot.imshow.html"
   ]
  },
  {
   "cell_type": "code",
   "execution_count": null,
   "metadata": {},
   "outputs": [],
   "source": [
    "plt.imshow(dog_images[0])"
   ]
  },
  {
   "cell_type": "code",
   "execution_count": null,
   "metadata": {},
   "outputs": [],
   "source": [
    "plt.imshow(cat_images[0])"
   ]
  },
  {
   "cell_type": "markdown",
   "metadata": {},
   "source": [
    "# Simple nearest neighbor classification\n",
    "We will split our dataset to training set and test set.  \n",
    "Our model with predict if a test image is of cat or dog based on **a label of the closest image.**  \n",
    "\n",
    "![nn](nn.png)\n",
    "*Image source: https://www.kdnuggets.com/2019/07/classifying-heart-disease-using-k-nearest-neighbors.html*\n",
    "\n",
    "We'll measure **image similarity** as a simple mean **absolute distance between pixel values**.  \n",
    "\n",
    "\\begin{equation}\n",
    "D(x_{train}, x_{test}) = \\frac{1}{|pixels|}\\sum_{pixels}{|x_{train}^{pixel} - x_{test}^{pixel}|}\n",
    "\\end{equation}\n",
    "\n",
    "Nearest neighbors:  \n",
    "**Training data:** ($x_{train}^i$), corresponding labels $y_{train}^i$  \n",
    "**Test example:** $x_{test}$. We want to find a prediction for the test example $y_{pred}$.  \n",
    "**Algorithm**:  \n",
    "$j= \\underset{x}{\\mathrm{argmin}} D(x_{train}, x_{test})$  \n",
    "$y_{pred} = y_{train}^{j}$\n"
   ]
  },
  {
   "cell_type": "code",
   "execution_count": null,
   "metadata": {},
   "outputs": [],
   "source": [
    "# img1, img2 - 2 images of the same size\n",
    "# Return mean absolute distance\n",
    "def image_dist(img1, img2):\n",
    "    H, W, C = img1.shape\n",
    "    distance = 0.\n",
    "    for i in range(H):\n",
    "        for j in range(W):\n",
    "            for c in range(C):\n",
    "                distance += np.abs(img1[i,j,c] - img2[i,j,c])\n",
    "    distance = distance / (H * W * C)\n",
    "    return distance"
   ]
  },
  {
   "cell_type": "markdown",
   "metadata": {},
   "source": [
    "**^ Don't do this! NumPy is optimized for vectorized operations**"
   ]
  },
  {
   "cell_type": "code",
   "execution_count": null,
   "metadata": {},
   "outputs": [],
   "source": [
    "# img1, img2 - 2 images of the same size\n",
    "def image_dist_vectorized(img1, img2):\n",
    "    ## TODO - write a vectorized version\n",
    "    return distance"
   ]
  },
  {
   "cell_type": "code",
   "execution_count": null,
   "metadata": {},
   "outputs": [],
   "source": [
    "img1 = dog_images[0].astype(np.float32)\n",
    "img2 = dog_images[1].astype(np.float32)"
   ]
  },
  {
   "cell_type": "code",
   "execution_count": null,
   "metadata": {},
   "outputs": [],
   "source": [
    "%timeit -n 10 image_dist(img1, img2)"
   ]
  },
  {
   "cell_type": "code",
   "execution_count": null,
   "metadata": {},
   "outputs": [],
   "source": [
    "%timeit -n 10 image_dist_vectorized(img1, img2)"
   ]
  },
  {
   "cell_type": "markdown",
   "metadata": {},
   "source": [
    "## Prepare the dataset\n",
    "We need train images, test images, and labels"
   ]
  },
  {
   "cell_type": "code",
   "execution_count": null,
   "metadata": {},
   "outputs": [],
   "source": [
    "dog_images = np.array(dog_images).astype(np.float32)\n",
    "cat_images = np.array(cat_images).astype(np.float32)\n",
    "print(dog_images.shape, cat_images.shape)\n",
    "\n",
    "# 4D Tensor of images: NxHxWxC\n",
    "# N - number of images\n",
    "# H - height\n",
    "# W - width\n",
    "# C - number of channels (RGB)\n",
    "# (N, H, W, C)"
   ]
  },
  {
   "cell_type": "code",
   "execution_count": null,
   "metadata": {},
   "outputs": [],
   "source": [
    "n_train = 1100 # 1100 out of 1200 for training, rest for test\n",
    "dog_train = dog_images[:n_train]\n",
    "cat_train = cat_images[:n_train]\n",
    "\n",
    "dog_test = dog_images[n_train:]\n",
    "cat_test = cat_images[n_train:]\n",
    "\n",
    "x_train = np.concatenate((dog_train, cat_train), axis=0)\n",
    "x_test = np.concatenate((dog_test, cat_test), axis=0)\n",
    "\n",
    "y_train = ['dog' for i in range(len(dog_train))]\n",
    "y_train.extend(['cat' for i in range(len(cat_train))])\n",
    "\n",
    "y_test = ['dog' for i in range(len(dog_test))]\n",
    "y_test.extend(['cat' for i in range(len(cat_test))])"
   ]
  },
  {
   "cell_type": "code",
   "execution_count": null,
   "metadata": {},
   "outputs": [],
   "source": [
    "print('Training set x_train shape: {}, y_train: {}'.format(x_train.shape, len(y_train)))\n",
    "print('Test set x_test shape: {}, y_test: {}'.format(x_test.shape, len(y_test)))\n",
    "print('Number of dogs in training set: {}'.format(np.sum(np.array(y_train)=='dog')))"
   ]
  },
  {
   "cell_type": "code",
   "execution_count": null,
   "metadata": {},
   "outputs": [],
   "source": [
    "class NNClassifier:\n",
    "    \n",
    "    def __init__(self):\n",
    "        pass\n",
    "    \n",
    "    def train(self, images, labels):\n",
    "        # TODO - write a training method for NN Classifier (lazy classifier - just saving the data)\n",
    "\n",
    "        \n",
    "    def predict(self, image):\n",
    "        # TODO - Find the closest image, distance to it and its label\n",
    "\n",
    "        return predicted_label, min_distance, closest_image"
   ]
  },
  {
   "cell_type": "code",
   "execution_count": null,
   "metadata": {},
   "outputs": [],
   "source": [
    "class NNClassifierVectorized:\n",
    "    \n",
    "    def __init__(self):\n",
    "        pass\n",
    "    \n",
    "    def train(self, images, labels):\n",
    "        # TODO - write a training method for NN Classifier (lazy classifier - just saving the data)\n",
    "        \n",
    "    def predict(self, image):\n",
    "        # TODO - write a vectorized method without any for loops\n",
    "        return predicted_label, min_distance, closest_image"
   ]
  },
  {
   "cell_type": "code",
   "execution_count": null,
   "metadata": {},
   "outputs": [],
   "source": [
    "classifier = NNClassifier()\n",
    "classifier.train(x_train, y_train)"
   ]
  },
  {
   "cell_type": "markdown",
   "metadata": {},
   "source": [
    "# Classify an image!"
   ]
  },
  {
   "cell_type": "code",
   "execution_count": null,
   "metadata": {},
   "outputs": [],
   "source": [
    "test_ind = 0\n",
    "plt.imshow(x_test[test_ind] / 256)\n",
    "plt.title('Label: {}'.format(y_test[test_ind]));"
   ]
  },
  {
   "cell_type": "code",
   "execution_count": null,
   "metadata": {},
   "outputs": [],
   "source": [
    "pred_label, min_dist, closest_image = classifier.predict(x_test[test_ind])"
   ]
  },
  {
   "cell_type": "code",
   "execution_count": null,
   "metadata": {},
   "outputs": [],
   "source": [
    "print('Predicted label: {}'.format(pred_label))\n",
    "print('Distance: {}'.format(min_dist))\n",
    "plt.imshow(closest_image / 256)\n",
    "plt.title('Closest image found');"
   ]
  },
  {
   "cell_type": "markdown",
   "metadata": {},
   "source": [
    "# Evaluate accuracy\n",
    "How many dogs and cats from test set are classified correctly?"
   ]
  },
  {
   "cell_type": "code",
   "execution_count": null,
   "metadata": {},
   "outputs": [],
   "source": [
    "# TODO Run prediction on the entire test set x_test\n",
    "#      Compute accuracy using predicted labels and true labels y_test\n",
    "predicted_labels = []"
   ]
  },
  {
   "cell_type": "code",
   "execution_count": null,
   "metadata": {},
   "outputs": [],
   "source": [
    "# TODO Write the predictions to predicted_labels list\n"
   ]
  },
  {
   "cell_type": "code",
   "execution_count": null,
   "metadata": {},
   "outputs": [],
   "source": [
    "y_test = np.array(y_test)\n",
    "predicted_labels = np.array(predicted_labels)"
   ]
  },
  {
   "cell_type": "code",
   "execution_count": null,
   "metadata": {},
   "outputs": [],
   "source": [
    "# TODO compute accuracy\n",
    "accuracy = \n",
    "print('Accuracy: {}%'.format(100*accuracy))"
   ]
  },
  {
   "cell_type": "code",
   "execution_count": null,
   "metadata": {},
   "outputs": [],
   "source": []
  }
 ],
 "metadata": {
  "kernelspec": {
   "display_name": "Python 3 (ipykernel)",
   "language": "python",
   "name": "python3"
  },
  "language_info": {
   "codemirror_mode": {
    "name": "ipython",
    "version": 3
   },
   "file_extension": ".py",
   "mimetype": "text/x-python",
   "name": "python",
   "nbconvert_exporter": "python",
   "pygments_lexer": "ipython3",
   "version": "3.9.7"
  }
 },
 "nbformat": 4,
 "nbformat_minor": 4
}
